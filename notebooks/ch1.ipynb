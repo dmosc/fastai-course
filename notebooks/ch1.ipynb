{
 "cells": [
  {
   "cell_type": "code",
   "execution_count": null,
   "metadata": {},
   "outputs": [],
   "source": []
  }
 ],
 "metadata": {
  "kernelspec": {
   "display_name": "venv",
   "language": "python",
   "name": "python3"
  },
  "language_info": {
   "name": "python",
   "version": "3.11.2"
  },
  "orig_nbformat": 4,
  "vscode": {
   "interpreter": {
    "hash": "efc8e10ba946897827245fa4e70f654875cde533b7546f1319b45c68f6250b14"
   }
  }
 },
 "nbformat": 4,
 "nbformat_minor": 2
}
